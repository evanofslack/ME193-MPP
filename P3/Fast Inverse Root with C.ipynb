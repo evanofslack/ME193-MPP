{
 "cells": [
  {
   "cell_type": "markdown",
   "metadata": {},
   "source": [
    "# Calculating the Inverse Square Root w/ C"
   ]
  },
  {
   "cell_type": "markdown",
   "metadata": {},
   "source": [
    "After watching [this video on the fast inverse square root algorithm](https://www.youtube.com/watch?v=p8u_k2LIZyo), I am inspired to try and implement different algorithms in order to find the fastest computation. The fast inverse square root algorithm uses some fancy manipulation of bytes in their integer form in order to get a very close estimate of the answer. For more information, check out the [wikipedia article about the fast inverse square root](https://en.wikipedia.org/wiki/Fast_inverse_square_root) or [this great blog post](https://timmmm.github.io/fast-inverse-square-root/) to learn more. **Overall, the goal is to optimize the following expression:  $ \\frac{1}{\\sqrt{x}} $**\n",
    "\n",
    "### The original code used in Quake III Arena is as follows: \n",
    "\n",
    "    float Q_rsqrt( float number )\n",
    "       {\n",
    "        long i;\n",
    "        float x2, y;\n",
    "        const float threehalfs = 1.5F;\n",
    "\n",
    "        x2 = number * 0.5F;\n",
    "        y  = number;\n",
    "        i  = * ( long * ) &y;                           // evil floating point bit level hacking\n",
    "        i  = 0x5f3759df - ( i >> 1 );                   // what the fuck? \n",
    "        y  = * ( float * ) &i;\n",
    "        y  = y * ( threehalfs - ( x2 * y * y ) );       // 1st iteration\n",
    "        // y  = y * ( threehalfs - ( x2 * y * y ) );    // 2nd iteration, this can be removed\n",
    "\n",
    "        return y;\n",
    "        }\n"
   ]
  },
  {
   "cell_type": "markdown",
   "metadata": {},
   "source": [
    "### Basic Implementation in C \n",
    "\n",
    "The baseline with which we can compare is the built in python library method: `x ** -0.5`"
   ]
  },
  {
   "cell_type": "code",
   "execution_count": 22,
   "metadata": {},
   "outputs": [
    {
     "name": "stdout",
     "output_type": "stream",
     "text": [
      "Time Default : 0.005063 \n",
      "Time Fast : 0.004916 \n"
     ]
    }
   ],
   "source": [
    "#include <math.h> \n",
    "#include <stdio.h>\n",
    "#include <time.h>\n",
    "\n",
    "// Function Declarations\n",
    "float default_inv_sqrt(float x);\n",
    "float fast_inv_sqrt(float x);\n",
    "\n",
    "\n",
    "int main() \n",
    "{ \n",
    "    \n",
    "    int magnitude = pow(10,4);\n",
    "    \n",
    "    // Default Algo\n",
    "    double time[magnitude];\n",
    "    double result[magnitude];\n",
    "    clock_t begin = clock();\n",
    "    for (int i = 0; i < magnitude; i++){\n",
    "        result[i] = default_inv_sqrt(i);\n",
    "        clock_t end = clock();\n",
    "        time[i] = (double)(end - begin)/ CLOCKS_PER_SEC;\n",
    "        //printf(\"%.6lf \\n\", result[i]); \n",
    "        //printf(\"Time : %.6lf \\n\", time[i]); \n",
    "    }\n",
    "    printf(\"Time Default : %.6lf \\n\", time[magnitude-1]); \n",
    "    \n",
    "    // Fast Algo\n",
    "    double time2[magnitude];\n",
    "    double result2[magnitude];\n",
    "    clock_t begin2 = clock();\n",
    "    for (int i=0; i < magnitude; i++){\n",
    "        result2[i] = fast_inv_sqrt(i);\n",
    "        clock_t end2 = clock();\n",
    "        time2[i] = (double)(end2 - begin2)/ CLOCKS_PER_SEC;\n",
    "    }\n",
    "    printf(\"Time Fast : %.6lf \\n\", time2[magnitude-1]);\n",
    "\n",
    "    \n",
    "} \n",
    "\n",
    "// Compute Inverse Square Root with Default Algorithm\n",
    "float default_inv_sqrt(float x)\n",
    "{\n",
    "    float result = pow(x,-0.5);\n",
    "    return result;\n",
    "}\n",
    "\n",
    "// Compute Inverse Square Root with Fast Algorithm\n",
    "float fast_inv_sqrt( float number )\n",
    "   {\n",
    "    long i;\n",
    "    float x2, y;\n",
    "    const float threehalfs = 1.5F;\n",
    "\n",
    "    x2 = number * 0.5F;\n",
    "    y  = number;\n",
    "    i  = * ( long * ) &y;                           // evil floating point bit level hacking\n",
    "    i  = 0x5f3759df - ( i >> 1 );                   // what the fuck? \n",
    "    y  = * ( float * ) &i;\n",
    "    y  = y * ( threehalfs - ( x2 * y * y ) );       // 1st iteration\n",
    "    // y  = y * ( threehalfs - ( x2 * y * y ) );    // 2nd iteration, this can be removed\n",
    "\n",
    "    return y;\n",
    "    }\n",
    "\n",
    "\n",
    "\n"
   ]
  },
  {
   "cell_type": "markdown",
   "metadata": {},
   "source": [
    "**As we can see, the default C algorithm computes at about nearly the same speed as the default python algorithm, but the fast C algorithm is slightly faster than any other method explored in these notebooks.** "
   ]
  },
  {
   "cell_type": "code",
   "execution_count": null,
   "metadata": {},
   "outputs": [],
   "source": []
  }
 ],
 "metadata": {
  "kernelspec": {
   "display_name": "C",
   "language": "c",
   "name": "c"
  },
  "language_info": {
   "file_extension": ".c",
   "mimetype": "text/plain",
   "name": "c"
  }
 },
 "nbformat": 4,
 "nbformat_minor": 4
}
